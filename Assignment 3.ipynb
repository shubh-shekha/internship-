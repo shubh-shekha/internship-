{
 "cells": [
  {
   "cell_type": "markdown",
   "id": "36f8fcca",
   "metadata": {},
   "source": [
    "question 1 "
   ]
  },
  {
   "cell_type": "code",
   "execution_count": 1,
   "id": "214c5020",
   "metadata": {},
   "outputs": [],
   "source": [
    "import selenium \n",
    "import pandas as pd\n",
    "from selenium import webdriver\n",
    "import warnings\n",
    "warnings.filterwarnings('ignore')\n",
    "from selenium.common.exceptions import StaleElementReferenceException, NoSuchElementException\n",
    "from selenium.webdriver.common.by import By\n",
    "import requests\n",
    "import time\n"
   ]
  },
  {
   "cell_type": "code",
   "execution_count": 2,
   "id": "410039fe",
   "metadata": {},
   "outputs": [],
   "source": [
    "browser = webdriver.Chrome(r\"C:\\Users\\MAYANK\\Downloads\\chromedriver_win32 (1) \\chromedriver.exe\")"
   ]
  },
  {
   "cell_type": "code",
   "execution_count": 3,
   "id": "bc3d4396",
   "metadata": {},
   "outputs": [],
   "source": [
    "browser.get('https://www.amazon.in/')"
   ]
  },
  {
   "cell_type": "code",
   "execution_count": 5,
   "id": "29bd2ef3",
   "metadata": {},
   "outputs": [],
   "source": [
    "search_product = browser.find_element(By.XPATH,'//input[@class=\"nav-input nav-progressive-attribute\"]')\n",
    "search_product.send_keys(\"guitar\")"
   ]
  },
  {
   "cell_type": "code",
   "execution_count": 6,
   "id": "b84b4f76",
   "metadata": {},
   "outputs": [],
   "source": [
    "search_btn = browser.find_element(By.XPATH,'//span[@class=\"nav-search-submit-text nav-sprite nav-progressive-attribute\"]')\n",
    "search_btn.click()"
   ]
  },
  {
   "cell_type": "markdown",
   "id": "0ce64287",
   "metadata": {},
   "source": [
    "# question 2"
   ]
  },
  {
   "cell_type": "code",
   "execution_count": 8,
   "id": "0427dbc0",
   "metadata": {},
   "outputs": [],
   "source": [
    "product_urls = []\n",
    "start = 0\n",
    "end = 3\n",
    "for page in range(start,end):\n",
    "    url = browser.find_elements(By.XPATH,'//a[@class=\"a-link-normal s-underline-text s-underline-link-text s-link-style a-text-normal\"]')\n",
    "    for i in url[0:10]:\n",
    "        product_urls.append(i.get_attribute(\"href\"))\n",
    "    next_button=browser.find_element(By.XPATH,'//a[@class=\"s-pagination-item s-pagination-next s-pagination-button s-pagination-separator\"]')\n",
    "    next_button.click()\n",
    "    time.sleep(2)"
   ]
  },
  {
   "cell_type": "code",
   "execution_count": 9,
   "id": "80cf1845",
   "metadata": {},
   "outputs": [
    {
     "data": {
      "text/plain": [
       "30"
      ]
     },
     "execution_count": 9,
     "metadata": {},
     "output_type": "execute_result"
    }
   ],
   "source": [
    "len(product_urls)"
   ]
  },
  {
   "cell_type": "code",
   "execution_count": null,
   "id": "cf802d35",
   "metadata": {},
   "outputs": [],
   "source": [
    "Brand=[]\n",
    "\n",
    "for url in product_urls:\n",
    "    browser.get(url)\n",
    "    time.sleep(5)\n",
    "    \n",
    "    try:\n",
    "        brand = browser.find_element(By.XPATH,'//td[@class=\"a-size-base prodDetAttrValue\"]')\n",
    "        Brand.append(brand.text)\n",
    "    except NoSuchElementException:\n",
    "        Brand.append('-')"
   ]
  },
  {
   "cell_type": "code",
   "execution_count": 13,
   "id": "8f1f549d",
   "metadata": {},
   "outputs": [],
   "source": [
    "Product = []\n",
    "\n",
    "for url in product_urls:\n",
    "    browser.get(url)\n",
    "    time.sleep(5)\n",
    "    \n",
    "    try:\n",
    "        product = browser.find_element(By.XPATH,'/html/body/div[2]/div[2]/div[5]/div[4]/div[4]/div[33]/div[1]/div[3]/div/div/div[2]/span/div/div/div/span[2]')\n",
    "        Product.append(product.text)\n",
    "    except NoSuchElementException:\n",
    "        Product.append('-')"
   ]
  },
  {
   "cell_type": "code",
   "execution_count": 14,
   "id": "c1fc0cc2",
   "metadata": {},
   "outputs": [],
   "source": [
    "Price = []\n",
    "\n",
    "for url in product_urls:\n",
    "    browser.get(url)\n",
    "    time.sleep(2)\n",
    "    \n",
    "    try:\n",
    "        price = browser.find_element(By.XPATH,'/html/body/div[2]/div[2]/div[5]/div[4]/div[4]/div[10]/div/div[1]/div[3]/div[1]/span[2]/span[2]/span[2]')\n",
    "        Price.append(price.text)\n",
    "    except NoSuchElementException:\n",
    "        Price.append('-')"
   ]
  },
  {
   "cell_type": "code",
   "execution_count": 15,
   "id": "98852ff3",
   "metadata": {},
   "outputs": [],
   "source": [
    "Delivery = []\n",
    "\n",
    "for url in product_urls[:10]:\n",
    "    browser.get(url)\n",
    "    time.sleep(2)\n",
    "    \n",
    "    try:\n",
    "        delivery = browser.find_element(By.XPATH,'/html/body/div[2]/div[2]/div[5]/div[4]/div[4]/div[10]/div/div[1]/div[3]/div[1]/span[2]/span[2]/span[2]')\n",
    "        Delivery.append(delivery.text)\n",
    "    except NoSuchElementException:\n",
    "        Delivery.append('-')"
   ]
  },
  {
   "cell_type": "code",
   "execution_count": 16,
   "id": "fb369b8e",
   "metadata": {},
   "outputs": [],
   "source": [
    "Return  = []\n",
    "\n",
    "for url in product_urls[:10]:\n",
    "    browser.get(url)\n",
    "    time.sleep(2)\n",
    "    \n",
    "    try: \n",
    "        ret = browser.find_element(By.XPATH,'/html/body/div[2]/div[2]/div[5]/div[4]/div[4]/div[21]/div/div[1]/div[2]/div/div/div/div[3]/span/div[2]')\n",
    "        Return.append(ret.text)\n",
    "    except NoSuchElementException:\n",
    "        Return.append('-')"
   ]
  },
  {
   "cell_type": "markdown",
   "id": "b232042d",
   "metadata": {},
   "source": [
    "# question 3"
   ]
  },
  {
   "cell_type": "code",
   "execution_count": 2,
   "id": "f0b4fa2c",
   "metadata": {},
   "outputs": [],
   "source": [
    "browser = webdriver.Chrome(r\"C:\\Users\\MAYANK\\Downloads\\chromedriver_win32 (1) \\chromedriver.exe\")"
   ]
  },
  {
   "cell_type": "code",
   "execution_count": 3,
   "id": "cd715c0a",
   "metadata": {},
   "outputs": [],
   "source": [
    "browser.get(\"http://images.google.com/\")"
   ]
  },
  {
   "cell_type": "code",
   "execution_count": 4,
   "id": "ecd712f3",
   "metadata": {},
   "outputs": [],
   "source": [
    "search_product = browser.find_element(By.XPATH,'//input[@class=\"gLFyf\"]')\n",
    "search_product.send_keys(\"Fruits\")"
   ]
  },
  {
   "cell_type": "code",
   "execution_count": 6,
   "id": "32e21503",
   "metadata": {},
   "outputs": [],
   "source": [
    "search_btn = browser.find_element(By.XPATH,'//span[@class=\"z1asCe MZy1Rb\"]')\n",
    "search_btn.click()"
   ]
  },
  {
   "cell_type": "code",
   "execution_count": 12,
   "id": "939e0af9",
   "metadata": {},
   "outputs": [],
   "source": [
    "for _ in range(20):\n",
    "    browser.execute_script(\"window.scrollBy(0,1000)\")\n",
    "images = browser.find_elements(By.XPATH,'//img[@class=\"rg_i Q4LuWd\"]')\n",
    "\n",
    "img_urls= []\n",
    "for image in images:\n",
    "    source = image.get_attribute('src')\n",
    "    if source is not None:\n",
    "        if(source[0:4]=='http'):\n",
    "            img_urls.append(source)\n",
    "            \n",
    "            \n",
    "for i  in range(len(img_urls)):\n",
    "    if i  > 10:\n",
    "        break\n",
    "        print(\"Downloading {0} of {1} images \".format(i,10))\n",
    "        response = requests.get(img_urls[i])\n",
    "        file = open(r\"C:\\Users\\MAYANK\\Downloads\" +   str(i)+\".jpg\",\"wb\")\n",
    "        file.write(response.content)\n",
    "                    \n",
    "                    \n",
    "        "
   ]
  },
  {
   "cell_type": "markdown",
   "id": "5f42dc64",
   "metadata": {},
   "source": [
    "# question 4"
   ]
  },
  {
   "cell_type": "code",
   "execution_count": 13,
   "id": "ff046a89",
   "metadata": {},
   "outputs": [],
   "source": [
    "browser = webdriver.Chrome(r\"C:\\Users\\MAYANK\\Downloads\\chromedriver_win32 (1) \\chromedriver.exe\")"
   ]
  },
  {
   "cell_type": "code",
   "execution_count": 14,
   "id": "7b85a922",
   "metadata": {},
   "outputs": [],
   "source": [
    "browser.get(\"http://www.flipkart.com/\")"
   ]
  },
  {
   "cell_type": "code",
   "execution_count": 16,
   "id": "7e2775f1",
   "metadata": {},
   "outputs": [],
   "source": [
    "search_product = browser.find_element(By.XPATH,'//input[@class=\"_3704LK\"]')\n",
    "search_product.send_keys(\"pixel 4A\")"
   ]
  },
  {
   "cell_type": "code",
   "execution_count": 17,
   "id": "4d8403d1",
   "metadata": {},
   "outputs": [],
   "source": [
    "search_btn = browser.find_element(By.XPATH,'//button[@class=\"L0Z3Pu\"]')\n",
    "search_btn.click()"
   ]
  },
  {
   "cell_type": "code",
   "execution_count": 18,
   "id": "cb09bd67",
   "metadata": {},
   "outputs": [],
   "source": [
    "product_urls = []\n",
    "\n",
    "url = browser.find_elements(By.XPATH,'//a[@class=\"_1fQZEK\"]')\n",
    "for i in url:\n",
    "    product_urls.append(i.get_attribute(\"href\"))"
   ]
  },
  {
   "cell_type": "code",
   "execution_count": 19,
   "id": "7a7aadd0",
   "metadata": {},
   "outputs": [
    {
     "data": {
      "text/plain": [
       "24"
      ]
     },
     "execution_count": 19,
     "metadata": {},
     "output_type": "execute_result"
    }
   ],
   "source": [
    "len(product_urls)"
   ]
  },
  {
   "cell_type": "code",
   "execution_count": 20,
   "id": "cc3fefb8",
   "metadata": {},
   "outputs": [],
   "source": [
    "Brand = []\n",
    "Phone_name = []\n",
    "Colour = []\n",
    "RAM = []\n",
    "Storage = []\n",
    "Primary_Camera = []\n"
   ]
  },
  {
   "cell_type": "code",
   "execution_count": 21,
   "id": "e445aabc",
   "metadata": {},
   "outputs": [
    {
     "data": {
      "text/plain": [
       "['https://www.flipkart.com/google-pixel-4a-just-black-128-gb/p/itm023b9677aa45d?pid=MOBFUSBNAZGY7HQU&lid=LSTMOBFUSBNAZGY7HQUWHTF0C&marketplace=FLIPKART&q=pixel+4A&store=tyy%2F4io&srno=s_1_1&otracker=search&otracker1=search&fm=organic&iid=5df84022-abdb-4d4c-9a4b-9dcdf86238ce.MOBFUSBNAZGY7HQU.SEARCH&ppt=hp&ppn=homepage&ssid=9wb0gy70f40000001672077201283&qH=9b26a23b2cff510d',\n",
       " 'https://www.flipkart.com/vivo-t1-44w-starry-sky-128-gb/p/itm2a08ebbea3689?pid=MOBGDRHVHNBBBBP5&lid=LSTMOBGDRHVHNBBBBP5SY2MJL&marketplace=FLIPKART&q=pixel+4A&store=tyy%2F4io&srno=s_1_2&otracker=search&otracker1=search&fm=organic&iid=5df84022-abdb-4d4c-9a4b-9dcdf86238ce.MOBGDRHVHNBBBBP5.SEARCH&ppt=hp&ppn=homepage&ssid=9wb0gy70f40000001672077201283&qH=9b26a23b2cff510d',\n",
       " 'https://www.flipkart.com/vivo-t1-44w-midnight-galaxy-128-gb/p/itm2a08ebbea3689?pid=MOBGDRHVZN29ZJF4&lid=LSTMOBGDRHVZN29ZJF4WEHAX7&marketplace=FLIPKART&q=pixel+4A&store=tyy%2F4io&srno=s_1_3&otracker=search&otracker1=search&fm=organic&iid=5df84022-abdb-4d4c-9a4b-9dcdf86238ce.MOBGDRHVZN29ZJF4.SEARCH&ppt=hp&ppn=homepage&ssid=9wb0gy70f40000001672077201283&qH=9b26a23b2cff510d',\n",
       " 'https://www.flipkart.com/vivo-t1-44w-ice-dawn-128-gb/p/itm2a08ebbea3689?pid=MOBGDRHVKYHCVG7W&lid=LSTMOBGDRHVKYHCVG7WU0WEW8&marketplace=FLIPKART&q=pixel+4A&store=tyy%2F4io&srno=s_1_4&otracker=search&otracker1=search&fm=organic&iid=5df84022-abdb-4d4c-9a4b-9dcdf86238ce.MOBGDRHVKYHCVG7W.SEARCH&ppt=hp&ppn=homepage&ssid=9wb0gy70f40000001672077201283&qH=9b26a23b2cff510d',\n",
       " 'https://www.flipkart.com/vivo-t1-44w-midnight-galaxy-128-gb/p/itm2a08ebbea3689?pid=MOBGDRHVXFVCGS23&lid=LSTMOBGDRHVXFVCGS23BNMEFR&marketplace=FLIPKART&q=pixel+4A&store=tyy%2F4io&srno=s_1_5&otracker=search&otracker1=search&fm=organic&iid=5df84022-abdb-4d4c-9a4b-9dcdf86238ce.MOBGDRHVXFVCGS23.SEARCH&ppt=hp&ppn=homepage&ssid=9wb0gy70f40000001672077201283&qH=9b26a23b2cff510d',\n",
       " 'https://www.flipkart.com/realme-c30-bamboo-green-32-gb/p/itmfcf69b2db5059?pid=MOBGF37G7FRK8FBJ&lid=LSTMOBGF37G7FRK8FBJLNLFYW&marketplace=FLIPKART&q=pixel+4A&store=tyy%2F4io&spotlightTagId=BestvalueId_tyy%2F4io&srno=s_1_6&otracker=search&otracker1=search&fm=organic&iid=5df84022-abdb-4d4c-9a4b-9dcdf86238ce.MOBGF37G7FRK8FBJ.SEARCH&ppt=hp&ppn=homepage&ssid=9wb0gy70f40000001672077201283&qH=9b26a23b2cff510d',\n",
       " 'https://www.flipkart.com/realme-c30-denim-black-32-gb/p/itmfcf69b2db5059?pid=MOBGF37G8TGKHFWJ&lid=LSTMOBGF37G8TGKHFWJ1ZG6GN&marketplace=FLIPKART&q=pixel+4A&store=tyy%2F4io&srno=s_1_7&otracker=search&otracker1=search&fm=organic&iid=5df84022-abdb-4d4c-9a4b-9dcdf86238ce.MOBGF37G8TGKHFWJ.SEARCH&ppt=hp&ppn=homepage&ssid=9wb0gy70f40000001672077201283&qH=9b26a23b2cff510d',\n",
       " 'https://www.flipkart.com/realme-c30-lake-blue-32-gb/p/itmfcf69b2db5059?pid=MOBGF37GTRVMRJVK&lid=LSTMOBGF37GTRVMRJVKDECI9W&marketplace=FLIPKART&q=pixel+4A&store=tyy%2F4io&srno=s_1_8&otracker=search&otracker1=search&fm=organic&iid=5df84022-abdb-4d4c-9a4b-9dcdf86238ce.MOBGF37GTRVMRJVK.SEARCH&ppt=hp&ppn=homepage&ssid=9wb0gy70f40000001672077201283&qH=9b26a23b2cff510d',\n",
       " 'https://www.flipkart.com/realme-10-pro-5g-hyperspace-128-gb/p/itm1e672d12a252e?pid=MOBGK8VHZPVGJCES&lid=LSTMOBGK8VHZPVGJCES9YRIWN&marketplace=FLIPKART&q=pixel+4A&store=tyy%2F4io&srno=s_1_9&otracker=search&otracker1=search&fm=organic&iid=5df84022-abdb-4d4c-9a4b-9dcdf86238ce.MOBGK8VHZPVGJCES.SEARCH&ppt=hp&ppn=homepage&ssid=9wb0gy70f40000001672077201283&qH=9b26a23b2cff510d',\n",
       " 'https://www.flipkart.com/realme-10-pro-5g-dark-matter-128-gb/p/itm1e672d12a252e?pid=MOBGK8VHWBRKYFJD&lid=LSTMOBGK8VHWBRKYFJDTEBOFU&marketplace=FLIPKART&q=pixel+4A&store=tyy%2F4io&srno=s_1_10&otracker=search&otracker1=search&fm=organic&iid=5df84022-abdb-4d4c-9a4b-9dcdf86238ce.MOBGK8VHWBRKYFJD.SEARCH&ppt=hp&ppn=homepage&ssid=9wb0gy70f40000001672077201283&qH=9b26a23b2cff510d',\n",
       " 'https://www.flipkart.com/realme-10-pro-5g-nebula-blue-128-gb/p/itm1e672d12a252e?pid=MOBGK8VHHFY5VCAY&lid=LSTMOBGK8VHHFY5VCAYOXEXVI&marketplace=FLIPKART&q=pixel+4A&store=tyy%2F4io&srno=s_1_11&otracker=search&otracker1=search&fm=organic&iid=5df84022-abdb-4d4c-9a4b-9dcdf86238ce.MOBGK8VHHFY5VCAY.SEARCH&ppt=hp&ppn=homepage&ssid=9wb0gy70f40000001672077201283&qH=9b26a23b2cff510d',\n",
       " 'https://www.flipkart.com/realme-c30-bamboo-green-32-gb/p/itmfcf69b2db5059?pid=MOBGF37GUWGZQYGR&lid=LSTMOBGF37GUWGZQYGRW97HI6&marketplace=FLIPKART&q=pixel+4A&store=tyy%2F4io&srno=s_1_12&otracker=search&otracker1=search&fm=organic&iid=5df84022-abdb-4d4c-9a4b-9dcdf86238ce.MOBGF37GUWGZQYGR.SEARCH&ppt=hp&ppn=homepage&ssid=9wb0gy70f40000001672077201283&qH=9b26a23b2cff510d',\n",
       " 'https://www.flipkart.com/realme-c30-denim-black-32-gb/p/itmfcf69b2db5059?pid=MOBGF37GMBMYRFBK&lid=LSTMOBGF37GMBMYRFBKNVTNSG&marketplace=FLIPKART&q=pixel+4A&store=tyy%2F4io&srno=s_1_13&otracker=search&otracker1=search&fm=organic&iid=5df84022-abdb-4d4c-9a4b-9dcdf86238ce.MOBGF37GMBMYRFBK.SEARCH&ppt=hp&ppn=homepage&ssid=9wb0gy70f40000001672077201283&qH=9b26a23b2cff510d',\n",
       " 'https://www.flipkart.com/realme-c30-lake-blue-32-gb/p/itmfcf69b2db5059?pid=MOBGF37GWT4TGVZM&lid=LSTMOBGF37GWT4TGVZM1IFYZO&marketplace=FLIPKART&q=pixel+4A&store=tyy%2F4io&srno=s_1_14&otracker=search&otracker1=search&fm=organic&iid=5df84022-abdb-4d4c-9a4b-9dcdf86238ce.MOBGF37GWT4TGVZM.SEARCH&ppt=hp&ppn=homepage&ssid=9wb0gy70f40000001672077201283&qH=9b26a23b2cff510d',\n",
       " 'https://www.flipkart.com/vivo-t1-44w-starry-sky-128-gb/p/itm2a08ebbea3689?pid=MOBGDRHVMW2UDXZY&lid=LSTMOBGDRHVMW2UDXZYJR2BWY&marketplace=FLIPKART&q=pixel+4A&store=tyy%2F4io&srno=s_1_15&otracker=search&otracker1=search&fm=organic&iid=5df84022-abdb-4d4c-9a4b-9dcdf86238ce.MOBGDRHVMW2UDXZY.SEARCH&ppt=hp&ppn=homepage&ssid=9wb0gy70f40000001672077201283&qH=9b26a23b2cff510d',\n",
       " 'https://www.flipkart.com/realme-10-pro-5g-hyperspace-128-gb/p/itmd32a2fec1fb60?pid=MOBGK8WZAAWCVVGZ&lid=LSTMOBGK8WZAAWCVVGZSRDO9R&marketplace=FLIPKART&q=pixel+4A&store=tyy%2F4io&srno=s_1_16&otracker=search&otracker1=search&fm=organic&iid=5df84022-abdb-4d4c-9a4b-9dcdf86238ce.MOBGK8WZAAWCVVGZ.SEARCH&ppt=hp&ppn=homepage&ssid=9wb0gy70f40000001672077201283&qH=9b26a23b2cff510d',\n",
       " 'https://www.flipkart.com/realme-c33-night-sea-32-gb/p/itma112335dbe78a?pid=MOBGHBJGGVPHHTYQ&lid=LSTMOBGHBJGGVPHHTYQPKXLM2&marketplace=FLIPKART&q=pixel+4A&store=tyy%2F4io&srno=s_1_17&otracker=search&otracker1=search&fm=organic&iid=5df84022-abdb-4d4c-9a4b-9dcdf86238ce.MOBGHBJGGVPHHTYQ.SEARCH&ppt=hp&ppn=homepage&ssid=9wb0gy70f40000001672077201283&qH=9b26a23b2cff510d',\n",
       " 'https://www.flipkart.com/realme-c33-sandy-gold-32-gb/p/itma112335dbe78a?pid=MOBGHBJGF9QZYSZX&lid=LSTMOBGHBJGF9QZYSZXROLVZH&marketplace=FLIPKART&q=pixel+4A&store=tyy%2F4io&srno=s_1_18&otracker=search&otracker1=search&fm=organic&iid=5df84022-abdb-4d4c-9a4b-9dcdf86238ce.MOBGHBJGF9QZYSZX.SEARCH&ppt=hp&ppn=homepage&ssid=9wb0gy70f40000001672077201283&qH=9b26a23b2cff510d',\n",
       " 'https://www.flipkart.com/micromax-2c-silver-32-gb/p/itm1c641ec8dd5c0?pid=MOBGDCF2YFVMYUCZ&lid=LSTMOBGDCF2YFVMYUCZSZGJJH&marketplace=FLIPKART&q=pixel+4A&store=tyy%2F4io&srno=s_1_19&otracker=search&otracker1=search&fm=organic&iid=5df84022-abdb-4d4c-9a4b-9dcdf86238ce.MOBGDCF2YFVMYUCZ.SEARCH&ppt=hp&ppn=homepage&ssid=9wb0gy70f40000001672077201283&qH=9b26a23b2cff510d',\n",
       " 'https://www.flipkart.com/vivo-t1-44w-midnight-galaxy-128-gb/p/itm2a08ebbea3689?pid=MOBGDRHVWJUFTYQJ&lid=LSTMOBGDRHVWJUFTYQJ2SYXAC&marketplace=FLIPKART&q=pixel+4A&store=tyy%2F4io&srno=s_1_20&otracker=search&otracker1=search&fm=organic&iid=5df84022-abdb-4d4c-9a4b-9dcdf86238ce.MOBGDRHVWJUFTYQJ.SEARCH&ppt=hp&ppn=homepage&ssid=9wb0gy70f40000001672077201283&qH=9b26a23b2cff510d',\n",
       " 'https://www.flipkart.com/realme-10-pro-5g-hyperspace-128-gb/p/itmd32a2fec1fb60?pid=MOBGK8WZQJXDBDFF&lid=LSTMOBGK8WZQJXDBDFFRPKQRO&marketplace=FLIPKART&q=pixel+4A&store=tyy%2F4io&srno=s_1_21&otracker=search&otracker1=search&fm=organic&iid=5df84022-abdb-4d4c-9a4b-9dcdf86238ce.MOBGK8WZQJXDBDFF.SEARCH&ppt=hp&ppn=homepage&ssid=9wb0gy70f40000001672077201283&qH=9b26a23b2cff510d',\n",
       " 'https://www.flipkart.com/realme-10-pro-5g-dark-matter-128-gb/p/itmd32a2fec1fb60?pid=MOBGK8WZ6FQR4YCJ&lid=LSTMOBGK8WZ6FQR4YCJHEJKXL&marketplace=FLIPKART&q=pixel+4A&store=tyy%2F4io&srno=s_1_22&otracker=search&otracker1=search&fm=organic&iid=5df84022-abdb-4d4c-9a4b-9dcdf86238ce.MOBGK8WZ6FQR4YCJ.SEARCH&ppt=hp&ppn=homepage&ssid=9wb0gy70f40000001672077201283&qH=9b26a23b2cff510d',\n",
       " 'https://www.flipkart.com/realme-c30-locked-airtel-prepaid-lake-blue-32-gb/p/itm938b2a52e171f?pid=MOBGFCFQZGEUXH35&lid=LSTMOBGFCFQZGEUXH35331CCP&marketplace=FLIPKART&q=pixel+4A&store=tyy%2F4io&srno=s_1_23&otracker=search&otracker1=search&fm=organic&iid=5df84022-abdb-4d4c-9a4b-9dcdf86238ce.MOBGFCFQZGEUXH35.SEARCH&ppt=hp&ppn=homepage&ssid=9wb0gy70f40000001672077201283&qH=9b26a23b2cff510d',\n",
       " 'https://www.flipkart.com/realme-c30-locked-airtel-prepaid-bamboo-green-32-gb/p/itm938b2a52e171f?pid=MOBGFCFQXDH5NZGU&lid=LSTMOBGFCFQXDH5NZGUMBWKGV&marketplace=FLIPKART&q=pixel+4A&store=tyy%2F4io&srno=s_1_24&otracker=search&otracker1=search&fm=organic&iid=5df84022-abdb-4d4c-9a4b-9dcdf86238ce.MOBGFCFQXDH5NZGU.SEARCH&ppt=hp&ppn=homepage&ssid=9wb0gy70f40000001672077201283&qH=9b26a23b2cff510d']"
      ]
     },
     "execution_count": 21,
     "metadata": {},
     "output_type": "execute_result"
    }
   ],
   "source": [
    "product_urls"
   ]
  },
  {
   "cell_type": "code",
   "execution_count": 25,
   "id": "2237b460",
   "metadata": {},
   "outputs": [],
   "source": [
    "Brand=[]\n",
    "\n",
    "for url in product_urls:\n",
    "    browser.get(url)\n",
    "    time.sleep(2)\n",
    "    \n",
    "    try:\n",
    "        brand = browser.find_element(By.XPATH,'//span[@class=\"B_NuCI\"]')\n",
    "        Brand.append(brand.text)\n",
    "    except NoSuchElementException:\n",
    "        Brand.append('-')"
   ]
  },
  {
   "cell_type": "code",
   "execution_count": 24,
   "id": "2b0cbd1c",
   "metadata": {},
   "outputs": [],
   "source": [
    "Phone_name = []\n",
    "\n",
    "for  url in product_urls:\n",
    "    browser.get(url)\n",
    "    time.sleep(2)\n",
    "    \n",
    "    try:\n",
    "        name = browser.find_element(By.XPATH,'//div[@class=\"_3k-BhJ\"][1]/table/tbody/tr[3]/td[2]/ul/li')\n",
    "        Phone_name.append(name.text)\n",
    "    except NoSuchElementException:\n",
    "        Phone_name.append('-')"
   ]
  },
  {
   "cell_type": "code",
   "execution_count": 26,
   "id": "7c6b658c",
   "metadata": {},
   "outputs": [],
   "source": [
    "Colour = []\n",
    "\n",
    "for url in product_urls:\n",
    "    browser.get(url)\n",
    "    time.sleep(2)\n",
    "    \n",
    "    try:\n",
    "        colour = browser.find_element(By.XPATH,\"//div[@class='_3k-BhJ'][1]/table/tbody/tr[4]/td[2]/ul/li\")\n",
    "        Colour.append(colour.text)\n",
    "    except NoSuchElementException:\n",
    "        Colour.append('-')"
   ]
  },
  {
   "cell_type": "code",
   "execution_count": 28,
   "id": "3632526e",
   "metadata": {},
   "outputs": [],
   "source": [
    "RAM = []\n",
    "\n",
    "for url in product_urls:\n",
    "    browser.get(url)\n",
    "    time.sleep(2)\n",
    "    \n",
    "    try:\n",
    "        ram = browser.find_element(By.XPATH,'//div[@class=\"_3k-BhJ\"][4]/table[1]/tbody/tr[2]/td[2]/ul/li')\n",
    "        RAM.append(ram.text)\n",
    "    except NoSuchElementException:\n",
    "        RAM.append('-')\n",
    "        "
   ]
  },
  {
   "cell_type": "code",
   "execution_count": 29,
   "id": "fa3a4787",
   "metadata": {},
   "outputs": [],
   "source": [
    "Storage = []\n",
    "\n",
    "for url in product_urls:\n",
    "    browser.get(url)\n",
    "    time.sleep(2)\n",
    "    \n",
    "    try:\n",
    "        storage = browser.find_element(By.XPATH,'//div[@class=\"_3k-BhJ\"][4]/table[1]/tbody/tr[1]/td[2]/ul/li')\n",
    "        Storage.append(storage.text)\n",
    "    except NoSuchElementException:\n",
    "        Storage.append('-')"
   ]
  },
  {
   "cell_type": "code",
   "execution_count": 30,
   "id": "6f545db3",
   "metadata": {},
   "outputs": [],
   "source": [
    "Primary_Camera = []\n",
    "\n",
    "for url in product_urls:\n",
    "    browser.get(url)\n",
    "    time.sleep(2)\n",
    "    \n",
    "    try:\n",
    "        camera = browser.find_element(By.XPATH,'//div[@class=\"_3k-BhJ\"][5]/table[1]/tbody/tr[2]/td[2]/ul/li')\n",
    "        Primary_Camera.append(camera.text)\n",
    "    except NoSuchElementException:\n",
    "        Primary_Camera.append('-')"
   ]
  },
  {
   "cell_type": "code",
   "execution_count": 31,
   "id": "fe96b3b0",
   "metadata": {},
   "outputs": [
    {
     "data": {
      "text/html": [
       "<div>\n",
       "<style scoped>\n",
       "    .dataframe tbody tr th:only-of-type {\n",
       "        vertical-align: middle;\n",
       "    }\n",
       "\n",
       "    .dataframe tbody tr th {\n",
       "        vertical-align: top;\n",
       "    }\n",
       "\n",
       "    .dataframe thead th {\n",
       "        text-align: right;\n",
       "    }\n",
       "</style>\n",
       "<table border=\"1\" class=\"dataframe\">\n",
       "  <thead>\n",
       "    <tr style=\"text-align: right;\">\n",
       "      <th></th>\n",
       "      <th>Brand</th>\n",
       "      <th>Phone_name</th>\n",
       "      <th>colour</th>\n",
       "      <th>RAM</th>\n",
       "      <th>Storage</th>\n",
       "      <th>Primary_Camera</th>\n",
       "    </tr>\n",
       "  </thead>\n",
       "  <tbody>\n",
       "    <tr>\n",
       "      <th>0</th>\n",
       "      <td>Google Pixel 4a (Just Black, 128 GB)  (6 GB RAM)</td>\n",
       "      <td>Pixel 4a</td>\n",
       "      <td>Just Black</td>\n",
       "      <td></td>\n",
       "      <td></td>\n",
       "      <td></td>\n",
       "    </tr>\n",
       "    <tr>\n",
       "      <th>1</th>\n",
       "      <td>vivo T1 44W (Starry Sky, 128 GB)  (4 GB RAM)</td>\n",
       "      <td>T1 44W</td>\n",
       "      <td>Starry Sky</td>\n",
       "      <td></td>\n",
       "      <td></td>\n",
       "      <td></td>\n",
       "    </tr>\n",
       "    <tr>\n",
       "      <th>2</th>\n",
       "      <td>vivo T1 44W (Midnight Galaxy, 128 GB)  (4 GB RAM)</td>\n",
       "      <td>T1 44W</td>\n",
       "      <td>Midnight Galaxy</td>\n",
       "      <td></td>\n",
       "      <td></td>\n",
       "      <td></td>\n",
       "    </tr>\n",
       "    <tr>\n",
       "      <th>3</th>\n",
       "      <td>vivo T1 44W (Ice Dawn, 128 GB)  (4 GB RAM)</td>\n",
       "      <td>T1 44W</td>\n",
       "      <td>Ice Dawn</td>\n",
       "      <td></td>\n",
       "      <td></td>\n",
       "      <td></td>\n",
       "    </tr>\n",
       "    <tr>\n",
       "      <th>4</th>\n",
       "      <td>vivo T1 44W (Midnight Galaxy, 128 GB)  (6 GB RAM)</td>\n",
       "      <td>T1 44W</td>\n",
       "      <td>Midnight Galaxy</td>\n",
       "      <td></td>\n",
       "      <td></td>\n",
       "      <td></td>\n",
       "    </tr>\n",
       "    <tr>\n",
       "      <th>5</th>\n",
       "      <td>realme C30 (Bamboo Green, 32 GB)  (2 GB RAM)</td>\n",
       "      <td>C30</td>\n",
       "      <td>Bamboo Green</td>\n",
       "      <td></td>\n",
       "      <td></td>\n",
       "      <td></td>\n",
       "    </tr>\n",
       "    <tr>\n",
       "      <th>6</th>\n",
       "      <td>realme C30 (Denim Black, 32 GB)  (2 GB RAM)</td>\n",
       "      <td>C30</td>\n",
       "      <td>Denim Black</td>\n",
       "      <td></td>\n",
       "      <td></td>\n",
       "      <td></td>\n",
       "    </tr>\n",
       "    <tr>\n",
       "      <th>7</th>\n",
       "      <td>realme C30 (Lake Blue, 32 GB)  (2 GB RAM)</td>\n",
       "      <td>C30</td>\n",
       "      <td>Lake Blue</td>\n",
       "      <td></td>\n",
       "      <td></td>\n",
       "      <td></td>\n",
       "    </tr>\n",
       "    <tr>\n",
       "      <th>8</th>\n",
       "      <td>realme 10 Pro 5G (Hyperspace, 128 GB)  (8 GB RAM)</td>\n",
       "      <td>10 Pro 5G</td>\n",
       "      <td>Hyperspace</td>\n",
       "      <td></td>\n",
       "      <td></td>\n",
       "      <td></td>\n",
       "    </tr>\n",
       "    <tr>\n",
       "      <th>9</th>\n",
       "      <td>realme 10 Pro 5G (Dark Matter, 128 GB)  (6 GB ...</td>\n",
       "      <td>10 Pro 5G</td>\n",
       "      <td>Dark Matter</td>\n",
       "      <td></td>\n",
       "      <td></td>\n",
       "      <td></td>\n",
       "    </tr>\n",
       "    <tr>\n",
       "      <th>10</th>\n",
       "      <td>realme 10 Pro 5G (Nebula Blue, 128 GB)  (8 GB ...</td>\n",
       "      <td>10 Pro 5G</td>\n",
       "      <td>Nebula Blue</td>\n",
       "      <td></td>\n",
       "      <td></td>\n",
       "      <td></td>\n",
       "    </tr>\n",
       "    <tr>\n",
       "      <th>11</th>\n",
       "      <td>realme C30 (Bamboo Green, 32 GB)  (3 GB RAM)</td>\n",
       "      <td>C30</td>\n",
       "      <td>Bamboo Green</td>\n",
       "      <td></td>\n",
       "      <td></td>\n",
       "      <td></td>\n",
       "    </tr>\n",
       "    <tr>\n",
       "      <th>12</th>\n",
       "      <td>realme C30 (Denim Black, 32 GB)  (3 GB RAM)</td>\n",
       "      <td>C30</td>\n",
       "      <td>Denim Black</td>\n",
       "      <td></td>\n",
       "      <td></td>\n",
       "      <td></td>\n",
       "    </tr>\n",
       "    <tr>\n",
       "      <th>13</th>\n",
       "      <td>realme C30 (Lake Blue, 32 GB)  (3 GB RAM)</td>\n",
       "      <td>C30</td>\n",
       "      <td>Lake Blue</td>\n",
       "      <td></td>\n",
       "      <td></td>\n",
       "      <td></td>\n",
       "    </tr>\n",
       "    <tr>\n",
       "      <th>14</th>\n",
       "      <td>vivo T1 44W (Starry Sky, 128 GB)  (6 GB RAM)</td>\n",
       "      <td>T1 44W</td>\n",
       "      <td>Starry Sky</td>\n",
       "      <td></td>\n",
       "      <td></td>\n",
       "      <td></td>\n",
       "    </tr>\n",
       "    <tr>\n",
       "      <th>15</th>\n",
       "      <td>realme 10 Pro+ 5G (Hyperspace, 128 GB)  (8 GB ...</td>\n",
       "      <td>10 Pro+ 5G</td>\n",
       "      <td>Hyperspace</td>\n",
       "      <td></td>\n",
       "      <td></td>\n",
       "      <td></td>\n",
       "    </tr>\n",
       "    <tr>\n",
       "      <th>16</th>\n",
       "      <td>realme C33 (Night Sea, 32 GB)  (3 GB RAM)</td>\n",
       "      <td>C33</td>\n",
       "      <td>Night Sea</td>\n",
       "      <td></td>\n",
       "      <td></td>\n",
       "      <td></td>\n",
       "    </tr>\n",
       "    <tr>\n",
       "      <th>17</th>\n",
       "      <td>realme C33 (Sandy Gold, 32 GB)  (3 GB RAM)</td>\n",
       "      <td>C33</td>\n",
       "      <td>Sandy Gold</td>\n",
       "      <td></td>\n",
       "      <td></td>\n",
       "      <td></td>\n",
       "    </tr>\n",
       "    <tr>\n",
       "      <th>18</th>\n",
       "      <td>Micromax IN 2C (Silver, 32 GB)  (3 GB RAM)</td>\n",
       "      <td>IN 2C</td>\n",
       "      <td>Silver</td>\n",
       "      <td></td>\n",
       "      <td></td>\n",
       "      <td></td>\n",
       "    </tr>\n",
       "    <tr>\n",
       "      <th>19</th>\n",
       "      <td>vivo T1 44W (Midnight Galaxy, 128 GB)  (8 GB RAM)</td>\n",
       "      <td>T1 44W</td>\n",
       "      <td>Midnight Galaxy</td>\n",
       "      <td></td>\n",
       "      <td></td>\n",
       "      <td></td>\n",
       "    </tr>\n",
       "    <tr>\n",
       "      <th>20</th>\n",
       "      <td>realme 10 Pro+ 5G (Hyperspace, 128 GB)  (6 GB ...</td>\n",
       "      <td>10 Pro+ 5G</td>\n",
       "      <td>Hyperspace</td>\n",
       "      <td></td>\n",
       "      <td></td>\n",
       "      <td></td>\n",
       "    </tr>\n",
       "    <tr>\n",
       "      <th>21</th>\n",
       "      <td>realme 10 Pro+ 5G (Dark Matter, 128 GB)  (6 GB...</td>\n",
       "      <td>10 Pro+ 5G</td>\n",
       "      <td>Dark Matter</td>\n",
       "      <td></td>\n",
       "      <td></td>\n",
       "      <td></td>\n",
       "    </tr>\n",
       "    <tr>\n",
       "      <th>22</th>\n",
       "      <td>Realme C30 - Locked with Airtel Prepaid (Lake ...</td>\n",
       "      <td>C30</td>\n",
       "      <td>Lake Blue</td>\n",
       "      <td></td>\n",
       "      <td></td>\n",
       "      <td></td>\n",
       "    </tr>\n",
       "    <tr>\n",
       "      <th>23</th>\n",
       "      <td>Realme C30 - Locked with Airtel Prepaid (Bambo...</td>\n",
       "      <td>C30</td>\n",
       "      <td>Bamboo Green</td>\n",
       "      <td></td>\n",
       "      <td></td>\n",
       "      <td></td>\n",
       "    </tr>\n",
       "  </tbody>\n",
       "</table>\n",
       "</div>"
      ],
      "text/plain": [
       "                                                Brand  Phone_name  \\\n",
       "0    Google Pixel 4a (Just Black, 128 GB)  (6 GB RAM)    Pixel 4a   \n",
       "1        vivo T1 44W (Starry Sky, 128 GB)  (4 GB RAM)      T1 44W   \n",
       "2   vivo T1 44W (Midnight Galaxy, 128 GB)  (4 GB RAM)      T1 44W   \n",
       "3          vivo T1 44W (Ice Dawn, 128 GB)  (4 GB RAM)      T1 44W   \n",
       "4   vivo T1 44W (Midnight Galaxy, 128 GB)  (6 GB RAM)      T1 44W   \n",
       "5        realme C30 (Bamboo Green, 32 GB)  (2 GB RAM)         C30   \n",
       "6         realme C30 (Denim Black, 32 GB)  (2 GB RAM)         C30   \n",
       "7           realme C30 (Lake Blue, 32 GB)  (2 GB RAM)         C30   \n",
       "8   realme 10 Pro 5G (Hyperspace, 128 GB)  (8 GB RAM)   10 Pro 5G   \n",
       "9   realme 10 Pro 5G (Dark Matter, 128 GB)  (6 GB ...   10 Pro 5G   \n",
       "10  realme 10 Pro 5G (Nebula Blue, 128 GB)  (8 GB ...   10 Pro 5G   \n",
       "11       realme C30 (Bamboo Green, 32 GB)  (3 GB RAM)         C30   \n",
       "12        realme C30 (Denim Black, 32 GB)  (3 GB RAM)         C30   \n",
       "13          realme C30 (Lake Blue, 32 GB)  (3 GB RAM)         C30   \n",
       "14       vivo T1 44W (Starry Sky, 128 GB)  (6 GB RAM)      T1 44W   \n",
       "15  realme 10 Pro+ 5G (Hyperspace, 128 GB)  (8 GB ...  10 Pro+ 5G   \n",
       "16          realme C33 (Night Sea, 32 GB)  (3 GB RAM)         C33   \n",
       "17         realme C33 (Sandy Gold, 32 GB)  (3 GB RAM)         C33   \n",
       "18         Micromax IN 2C (Silver, 32 GB)  (3 GB RAM)       IN 2C   \n",
       "19  vivo T1 44W (Midnight Galaxy, 128 GB)  (8 GB RAM)      T1 44W   \n",
       "20  realme 10 Pro+ 5G (Hyperspace, 128 GB)  (6 GB ...  10 Pro+ 5G   \n",
       "21  realme 10 Pro+ 5G (Dark Matter, 128 GB)  (6 GB...  10 Pro+ 5G   \n",
       "22  Realme C30 - Locked with Airtel Prepaid (Lake ...         C30   \n",
       "23  Realme C30 - Locked with Airtel Prepaid (Bambo...         C30   \n",
       "\n",
       "             colour RAM Storage Primary_Camera  \n",
       "0        Just Black                             \n",
       "1        Starry Sky                             \n",
       "2   Midnight Galaxy                             \n",
       "3          Ice Dawn                             \n",
       "4   Midnight Galaxy                             \n",
       "5      Bamboo Green                             \n",
       "6       Denim Black                             \n",
       "7         Lake Blue                             \n",
       "8        Hyperspace                             \n",
       "9       Dark Matter                             \n",
       "10      Nebula Blue                             \n",
       "11     Bamboo Green                             \n",
       "12      Denim Black                             \n",
       "13        Lake Blue                             \n",
       "14       Starry Sky                             \n",
       "15       Hyperspace                             \n",
       "16        Night Sea                             \n",
       "17       Sandy Gold                             \n",
       "18           Silver                             \n",
       "19  Midnight Galaxy                             \n",
       "20       Hyperspace                             \n",
       "21      Dark Matter                             \n",
       "22        Lake Blue                             \n",
       "23     Bamboo Green                             "
      ]
     },
     "execution_count": 31,
     "metadata": {},
     "output_type": "execute_result"
    }
   ],
   "source": [
    "import pandas as pd\n",
    "\n",
    "df2 = pd.DataFrame({'Brand':Brand,'Phone_name':Phone_name,'colour':Colour,'RAM':RAM,'Storage':Storage,'Primary_Camera':Primary_Camera})\n",
    "df2\n"
   ]
  },
  {
   "cell_type": "markdown",
   "id": "2cb02378",
   "metadata": {},
   "source": [
    "# question 5"
   ]
  },
  {
   "cell_type": "code",
   "execution_count": 32,
   "id": "8b88e29f",
   "metadata": {},
   "outputs": [],
   "source": [
    "browser = webdriver.Chrome(r\"C:\\Users\\MAYANK\\Downloads\\chromedriver_win32 (1) \\chromedriver.exe\")"
   ]
  },
  {
   "cell_type": "code",
   "execution_count": 33,
   "id": "dc966635",
   "metadata": {},
   "outputs": [],
   "source": [
    "browser.get('https://www.google.co.in/maps')"
   ]
  },
  {
   "cell_type": "code",
   "execution_count": 34,
   "id": "679dd951",
   "metadata": {},
   "outputs": [],
   "source": [
    "search_city = browser.find_element(By.XPATH,'//input[@class=\"searchboxinput xiQnY\"]')\n",
    "search_city.send_keys(\"Pune\")"
   ]
  },
  {
   "cell_type": "code",
   "execution_count": 35,
   "id": "6c3f38f6",
   "metadata": {},
   "outputs": [],
   "source": [
    "search_btn = browser.find_element(By.XPATH,'//button[@class=\"mL3xi\"]')\n",
    "search_btn.click()"
   ]
  },
  {
   "cell_type": "code",
   "execution_count": 37,
   "id": "e8e5bf78",
   "metadata": {},
   "outputs": [
    {
     "name": "stdout",
     "output_type": "stream",
     "text": [
      "URL Extracted:  https://www.google.co.in/maps/@18.8154265,76.7747674,7z\n",
      "Error:  name 're' is not defined\n"
     ]
    }
   ],
   "source": [
    "try:\n",
    "    url_string = browser.current_url\n",
    "    print(\"URL Extracted: \", url_string)\n",
    "    latitude_longitude = re.findall(r'@(.*)data',url_string)\n",
    "    if len(latitude_longitude):\n",
    "        lat_lng_list = latitude_longitude[0].split(\",\")\n",
    "        if len(lat_lng_list)>=2:\n",
    "            latitude = lat_lng_list[0]\n",
    "            longitude = lat_lng_list[1]\n",
    "        print(\"Latitude = {}, Longitude = {}\".format(latitude, longitude))\n",
    "except Exception as e:\n",
    "        print(\"Error: \", str(e))"
   ]
  },
  {
   "cell_type": "markdown",
   "id": "5fe295f0",
   "metadata": {},
   "source": [
    "# question 7"
   ]
  },
  {
   "cell_type": "code",
   "execution_count": 38,
   "id": "67bee1ac",
   "metadata": {},
   "outputs": [],
   "source": [
    "browser = webdriver.Chrome(r\"C:\\Users\\MAYANK\\Downloads\\chromedriver_win32 (1) \\chromedriver.exe\")"
   ]
  },
  {
   "cell_type": "code",
   "execution_count": 39,
   "id": "b063600d",
   "metadata": {},
   "outputs": [],
   "source": [
    "browser.get('https://www.digit.in/')"
   ]
  },
  {
   "cell_type": "code",
   "execution_count": 40,
   "id": "05c90b3f",
   "metadata": {},
   "outputs": [],
   "source": [
    "best_gam_laptops = browser.find_element(By.XPATH,\"//div[@class='listing_container']//ul//li[9]\").click()\n",
    "time.sleep(3)"
   ]
  },
  {
   "cell_type": "code",
   "execution_count": 41,
   "id": "a3fd6928",
   "metadata": {},
   "outputs": [],
   "source": [
    "Laptop_Name = []\n",
    "Operating_sys = []\n",
    "Display = []\n",
    "Processor = []\n",
    "Memory = []\n",
    "Price = []"
   ]
  },
  {
   "cell_type": "code",
   "execution_count": 43,
   "id": "26f50065",
   "metadata": {},
   "outputs": [],
   "source": [
    "laptop_name = browser.find_elements(By.XPATH,\"//div[@class='right-container']/div/a/h3\")\n",
    "for name in laptop_name:\n",
    "    Laptop_Name.append(name.text)"
   ]
  },
  {
   "cell_type": "code",
   "execution_count": 45,
   "id": "aff44cde",
   "metadata": {},
   "outputs": [],
   "source": [
    "try:\n",
    "    op_sys = browser.find_elements(By.XPATH,\"//div[@class='product-detail']/div/ul/li[1]/div/div\")\n",
    "    for os in op_sys:\n",
    "        Operating_sys.append(os.text)\n",
    "except NoSuchElementException:\n",
    "    pass\n"
   ]
  },
  {
   "cell_type": "code",
   "execution_count": 46,
   "id": "ed405289",
   "metadata": {},
   "outputs": [],
   "source": [
    "try:\n",
    "    display = browser.find_elements(By.XPATH,\"//div[@class='product-detail']/div/ul/li[2]/div/div\")\n",
    "    for disp in display:\n",
    "        Display.append(disp.text)\n",
    "except NoSuchElementException:\n",
    "    pass"
   ]
  },
  {
   "cell_type": "code",
   "execution_count": 48,
   "id": "24290e78",
   "metadata": {},
   "outputs": [],
   "source": [
    "try:\n",
    "    processor = browser.find_elements(By.XPATH,\"//div[@class='Spcs-details'][1]/table/tbody/tr[5]/td[3]\")\n",
    "    for pro in processor:\n",
    "        Processor.append(pro.text)\n",
    "except NoSuchElementException:\n",
    "    pass"
   ]
  },
  {
   "cell_type": "code",
   "execution_count": 49,
   "id": "288a78b8",
   "metadata": {},
   "outputs": [],
   "source": [
    "try:\n",
    "    memory = browser.find_elements(By.XPATH,\"//div[@class='Spcs-details'][1]/table/tbody/tr[6]/td[3]\")\n",
    "    for memo in memory:\n",
    "        Memory.append(memo.text)\n",
    "except NoSuchElementException:\n",
    "    pass"
   ]
  },
  {
   "cell_type": "code",
   "execution_count": 50,
   "id": "f19dedb2",
   "metadata": {},
   "outputs": [],
   "source": [
    "try:\n",
    "    price = browser.find_elements(By.XPATH,\"//td[@class='smprice']\")\n",
    "    for pri in price:\n",
    "        Price.append(pri.text.replace('₹ ','Rs'))\n",
    "except NoSuchElementException:\n",
    "    pass"
   ]
  },
  {
   "cell_type": "markdown",
   "id": "e1319fd1",
   "metadata": {},
   "source": [
    "# questiom 8"
   ]
  },
  {
   "cell_type": "code",
   "execution_count": 51,
   "id": "e8b20ca1",
   "metadata": {},
   "outputs": [],
   "source": [
    "browser = webdriver.Chrome(r\"C:\\Users\\MAYANK\\Downloads\\chromedriver_win32 (1) \\chromedriver.exe\")"
   ]
  },
  {
   "cell_type": "code",
   "execution_count": 52,
   "id": "54dbf48d",
   "metadata": {},
   "outputs": [],
   "source": [
    "browser.get('http://www.forbes.com/')"
   ]
  },
  {
   "cell_type": "code",
   "execution_count": 53,
   "id": "8f59e75b",
   "metadata": {},
   "outputs": [],
   "source": [
    "Rank = []\n",
    "Person_Name = []\n",
    "Net_worth = []\n",
    "Age = []\n",
    "Citizenship = []\n",
    "Source = []\n",
    "Industry = []"
   ]
  },
  {
   "cell_type": "code",
   "execution_count": null,
   "id": "9441201e",
   "metadata": {},
   "outputs": [],
   "source": [
    "while(True):\n",
    "    \n",
    "    # scraping the data of rank of the billionaires\n",
    "    rank_tag = browser.find_elements(By.XPATH,\"//div[@class='rank']\")\n",
    "    for rank in rank_tag:\n",
    "        Rank.append(rank.text)\n",
    "    time.sleep(1)\n",
    "    \n",
    "    \n",
    " \n",
    "    # scraping the data  of names of the billionaires\n",
    "    name_tag = browser.find_elements(By.XPATH,\"//div[@class='personName']/div\")\n",
    "    for name in name_tag:\n",
    "        Person_Name.append(name.text)\n",
    "    time.sleep(1)\n",
    "    \n",
    "    \n",
    "    # scraping the data of age of the billionaires\n",
    "    age_tag = browser.find_elements(By.XPATH,\"//div[@class='age']/div\")\n",
    "    for age in age_tag:\n",
    "        Age.append(age.text)\n",
    "    time.sleep(1)\n",
    "    \n",
    "    \n",
    "    # scraping the data of citizenship of the billionaires\n",
    "    cit_tag = browser.find_elements(By.XPATH,\"//div[@class='countryOfCitizenship']\")\n",
    "    for cit in cit_tag:\n",
    "        Citizenship.append(cit.text)\n",
    "    time.sleep(1)"
   ]
  },
  {
   "cell_type": "code",
   "execution_count": null,
   "id": "cfd007c5",
   "metadata": {},
   "outputs": [],
   "source": [
    "# scraping the data of source of income of the billionaires\n",
    "    sour_tag = browser.find_elements_by_xpath(\"//div[@class='source']\")\n",
    "    for sour in sour_tag:\n",
    "        Source.append(sour.text)\n",
    "    time.sleep(1)\n",
    "    \n",
    "    \n",
    "    # scraping data of industry of the billionaires\n",
    "    ind_tag = browser.find_elements_by_xpath(\"//div[@class='category']//div\")\n",
    "    for ind in ind_tag:\n",
    "        Industry.append(ind.text)\n",
    "    time.sleep(1)\n",
    "    \n",
    "    \n",
    "    # scraping data of net_worth of billionaires\n",
    "    net_tag = browser.find_elements_by_xpath(\"//div[@class='netWorth']/div\")\n",
    "    for net in net_tag:\n",
    "        Net_worth.append(net.text)\n",
    "    time.sleep(1)"
   ]
  },
  {
   "cell_type": "code",
   "execution_count": null,
   "id": "2986abf0",
   "metadata": {},
   "outputs": [],
   "source": []
  }
 ],
 "metadata": {
  "kernelspec": {
   "display_name": "Python 3 (ipykernel)",
   "language": "python",
   "name": "python3"
  },
  "language_info": {
   "codemirror_mode": {
    "name": "ipython",
    "version": 3
   },
   "file_extension": ".py",
   "mimetype": "text/x-python",
   "name": "python",
   "nbconvert_exporter": "python",
   "pygments_lexer": "ipython3",
   "version": "3.9.12"
  }
 },
 "nbformat": 4,
 "nbformat_minor": 5
}
